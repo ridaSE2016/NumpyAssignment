{
  "nbformat": 4,
  "nbformat_minor": 0,
  "metadata": {
    "colab": {
      "name": "Copy of Numpy-Assignment-PIAIC-Batch35-Q2RIDAHAMID.ipynb",
      "provenance": [],
      "collapsed_sections": [],
      "include_colab_link": true
    },
    "kernelspec": {
      "display_name": "Python 3",
      "language": "python",
      "name": "python3"
    },
    "language_info": {
      "codemirror_mode": {
        "name": "ipython",
        "version": 3
      },
      "file_extension": ".py",
      "mimetype": "text/x-python",
      "name": "python",
      "nbconvert_exporter": "python",
      "pygments_lexer": "ipython3",
      "version": "3.7.4"
    }
  },
  "cells": [
    {
      "cell_type": "markdown",
      "metadata": {
        "id": "view-in-github",
        "colab_type": "text"
      },
      "source": [
        "<a href=\"https://colab.research.google.com/github/ridaSE2016/NumpyAssignment/blob/main/Copy_of_Numpy_Assignment_PIAIC_Batch35_Q2RIDAHAMID.ipynb\" target=\"_parent\"><img src=\"https://colab.research.google.com/assets/colab-badge.svg\" alt=\"Open In Colab\"/></a>"
      ]
    },
    {
      "cell_type": "markdown",
      "metadata": {
        "id": "NgUeapcvmIRh"
      },
      "source": [
        "# **Assignment For Numpy**"
      ]
    },
    {
      "cell_type": "markdown",
      "metadata": {
        "id": "yhr3JicwnA-4"
      },
      "source": [
        "Difficulty Level **Beginner**"
      ]
    },
    {
      "cell_type": "markdown",
      "metadata": {
        "id": "hVPqDJ1SnKSh"
      },
      "source": [
        "1. Import the numpy package under the name np"
      ]
    },
    {
      "cell_type": "code",
      "metadata": {
        "id": "SePu31zKmgS-"
      },
      "source": [
        "import numpy as np"
      ],
      "execution_count": 46,
      "outputs": []
    },
    {
      "cell_type": "markdown",
      "metadata": {
        "id": "d0gO81krnL7g"
      },
      "source": [
        "2. Create a null vector of size 10 "
      ]
    },
    {
      "cell_type": "code",
      "metadata": {
        "id": "2s6o2JPgnSBr",
        "colab": {
          "base_uri": "https://localhost:8080/"
        },
        "outputId": "994452b0-e141-44cc-9adb-5a29fad93060"
      },
      "source": [
        "np.empty((10))"
      ],
      "execution_count": 47,
      "outputs": [
        {
          "output_type": "execute_result",
          "data": {
            "text/plain": [
              "array([0.00000000e+000, 2.42092166e-322, 2.12199579e-314, 3.44620186e-085,\n",
              "       4.34900767e+199, 1.87422380e+261, 4.56782417e-085, 9.75025989e+199,\n",
              "       7.68290848e+170, 5.68175493e-322])"
            ]
          },
          "metadata": {
            "tags": []
          },
          "execution_count": 47
        }
      ]
    },
    {
      "cell_type": "markdown",
      "metadata": {
        "id": "BJTMK03fnS1w"
      },
      "source": [
        "3. Create a vector with values ranging from 10 to 49"
      ]
    },
    {
      "cell_type": "code",
      "metadata": {
        "id": "qRXxXuWdnj1M",
        "colab": {
          "base_uri": "https://localhost:8080/"
        },
        "outputId": "9be36a2b-78df-4fdd-fab9-c16840559609"
      },
      "source": [
        "x = np.arange(10,50)\r\n",
        "x"
      ],
      "execution_count": 48,
      "outputs": [
        {
          "output_type": "execute_result",
          "data": {
            "text/plain": [
              "array([10, 11, 12, 13, 14, 15, 16, 17, 18, 19, 20, 21, 22, 23, 24, 25, 26,\n",
              "       27, 28, 29, 30, 31, 32, 33, 34, 35, 36, 37, 38, 39, 40, 41, 42, 43,\n",
              "       44, 45, 46, 47, 48, 49])"
            ]
          },
          "metadata": {
            "tags": []
          },
          "execution_count": 48
        }
      ]
    },
    {
      "cell_type": "markdown",
      "metadata": {
        "id": "n63lzg5Onkcn"
      },
      "source": [
        "4. Find the shape of previous array in question 3"
      ]
    },
    {
      "cell_type": "code",
      "metadata": {
        "id": "1FueBdqPn_q7",
        "colab": {
          "base_uri": "https://localhost:8080/"
        },
        "outputId": "f350c7ea-9a7f-4c45-e6fd-4fe6502ca88a"
      },
      "source": [
        "x.shape"
      ],
      "execution_count": 49,
      "outputs": [
        {
          "output_type": "execute_result",
          "data": {
            "text/plain": [
              "(40,)"
            ]
          },
          "metadata": {
            "tags": []
          },
          "execution_count": 49
        }
      ]
    },
    {
      "cell_type": "markdown",
      "metadata": {
        "id": "AzMlQj1MoAVe"
      },
      "source": [
        "5. Print the type of the previous array in question 3"
      ]
    },
    {
      "cell_type": "code",
      "metadata": {
        "id": "AO9PYmdWoE1L",
        "colab": {
          "base_uri": "https://localhost:8080/"
        },
        "outputId": "2e3901c5-2cfc-4474-95d5-32027fe39f85"
      },
      "source": [
        "x.dtype"
      ],
      "execution_count": 50,
      "outputs": [
        {
          "output_type": "execute_result",
          "data": {
            "text/plain": [
              "dtype('int64')"
            ]
          },
          "metadata": {
            "tags": []
          },
          "execution_count": 50
        }
      ]
    },
    {
      "cell_type": "markdown",
      "metadata": {
        "id": "0qaKS13Yon-U"
      },
      "source": [
        "6. Print the numpy version and the configuration\n"
      ]
    },
    {
      "cell_type": "code",
      "metadata": {
        "id": "T3wY24e1oorh",
        "colab": {
          "base_uri": "https://localhost:8080/",
          "height": 36
        },
        "outputId": "c698c473-c5a0-4c79-e753-cabfea8f0ef8"
      },
      "source": [
        "np.__version__"
      ],
      "execution_count": 51,
      "outputs": [
        {
          "output_type": "execute_result",
          "data": {
            "application/vnd.google.colaboratory.intrinsic+json": {
              "type": "string"
            },
            "text/plain": [
              "'1.19.4'"
            ]
          },
          "metadata": {
            "tags": []
          },
          "execution_count": 51
        }
      ]
    },
    {
      "cell_type": "markdown",
      "metadata": {
        "id": "ZyUUiQf5oyvE"
      },
      "source": [
        "7. Print the dimension of the array in question 3\n"
      ]
    },
    {
      "cell_type": "code",
      "metadata": {
        "id": "pLXfuIqIo0vq",
        "colab": {
          "base_uri": "https://localhost:8080/"
        },
        "outputId": "1e772c7f-90cd-4cbf-b561-196125dc2d21"
      },
      "source": [
        "x.ndim"
      ],
      "execution_count": 52,
      "outputs": [
        {
          "output_type": "execute_result",
          "data": {
            "text/plain": [
              "1"
            ]
          },
          "metadata": {
            "tags": []
          },
          "execution_count": 52
        }
      ]
    },
    {
      "cell_type": "markdown",
      "metadata": {
        "id": "JYVMuFrqpBdV"
      },
      "source": [
        "8. Create a boolean array with all the True values"
      ]
    },
    {
      "cell_type": "code",
      "metadata": {
        "id": "3apZsISzpFKR",
        "colab": {
          "base_uri": "https://localhost:8080/"
        },
        "outputId": "cf154253-dcb6-49e8-a183-16f075e29755"
      },
      "source": [
        "boole1 = np.array([[2,0], [2,1]])\r\n",
        "boole2 = np.array([[6,4], [5,8]])\r\n",
        "boole1 < boole2\r\n"
      ],
      "execution_count": 53,
      "outputs": [
        {
          "output_type": "execute_result",
          "data": {
            "text/plain": [
              "array([[ True,  True],\n",
              "       [ True,  True]])"
            ]
          },
          "metadata": {
            "tags": []
          },
          "execution_count": 53
        }
      ]
    },
    {
      "cell_type": "markdown",
      "metadata": {
        "id": "4zbBooWZpPBU"
      },
      "source": [
        "9. Create a two dimensional array\n",
        "\n",
        "\n"
      ]
    },
    {
      "cell_type": "code",
      "metadata": {
        "id": "KfPQEiVIpdTo",
        "colab": {
          "base_uri": "https://localhost:8080/"
        },
        "outputId": "7abb20f9-5e13-4175-df80-027c1b63c5b1"
      },
      "source": [
        "a = np.array([[1,2],[2,1]])\r\n",
        "a"
      ],
      "execution_count": 54,
      "outputs": [
        {
          "output_type": "execute_result",
          "data": {
            "text/plain": [
              "array([[1, 2],\n",
              "       [2, 1]])"
            ]
          },
          "metadata": {
            "tags": []
          },
          "execution_count": 54
        }
      ]
    },
    {
      "cell_type": "markdown",
      "metadata": {
        "id": "do9wPAFbpqC7"
      },
      "source": [
        "10. Create a three dimensional array\n",
        "\n"
      ]
    },
    {
      "cell_type": "code",
      "metadata": {
        "id": "ZCO_q-KZqAeW",
        "colab": {
          "base_uri": "https://localhost:8080/"
        },
        "outputId": "947e4735-0c6c-44fa-a2c8-856fc5418d2f"
      },
      "source": [
        "arr = np.array([[1,2,3],[3,4,5],[6,7,8]])\r\n",
        "arr\r\n"
      ],
      "execution_count": 55,
      "outputs": [
        {
          "output_type": "execute_result",
          "data": {
            "text/plain": [
              "array([[1, 2, 3],\n",
              "       [3, 4, 5],\n",
              "       [6, 7, 8]])"
            ]
          },
          "metadata": {
            "tags": []
          },
          "execution_count": 55
        }
      ]
    },
    {
      "cell_type": "markdown",
      "metadata": {
        "id": "a4iysJ87qEeb"
      },
      "source": [
        "Difficulty Level **Easy**"
      ]
    },
    {
      "cell_type": "markdown",
      "metadata": {
        "id": "DehgqszSqjY6"
      },
      "source": [
        "11. Reverse a vector (first element becomes last)"
      ]
    },
    {
      "cell_type": "code",
      "metadata": {
        "id": "tfevmc4VqkWu",
        "colab": {
          "base_uri": "https://localhost:8080/"
        },
        "outputId": "536ccdeb-d6cc-44f9-9c72-29beb1287986"
      },
      "source": [
        "y  = np.arange(5,20)\r\n",
        "y = y[::-1]\r\n",
        "y\r\n"
      ],
      "execution_count": 56,
      "outputs": [
        {
          "output_type": "execute_result",
          "data": {
            "text/plain": [
              "array([19, 18, 17, 16, 15, 14, 13, 12, 11, 10,  9,  8,  7,  6,  5])"
            ]
          },
          "metadata": {
            "tags": []
          },
          "execution_count": 56
        }
      ]
    },
    {
      "cell_type": "markdown",
      "metadata": {
        "id": "yoATXS-qqk_q"
      },
      "source": [
        "12. Create a null vector of size 10 but the fifth value which is 1 "
      ]
    },
    {
      "cell_type": "code",
      "metadata": {
        "id": "AheZ32Owqpte",
        "colab": {
          "base_uri": "https://localhost:8080/"
        },
        "outputId": "4dd40246-965e-43dc-a2d4-272e98699573"
      },
      "source": [
        "a = np.empty(10)\r\n",
        "a[4] = 1\r\n",
        "a"
      ],
      "execution_count": 57,
      "outputs": [
        {
          "output_type": "execute_result",
          "data": {
            "text/plain": [
              "array([0.00000000e+000, 2.42092166e-322, 2.12199579e-314, 3.44620186e-085,\n",
              "       1.00000000e+000, 1.87422380e+261, 4.56782417e-085, 9.75025989e+199,\n",
              "       7.68290848e+170, 5.68175493e-322])"
            ]
          },
          "metadata": {
            "tags": []
          },
          "execution_count": 57
        }
      ]
    },
    {
      "cell_type": "markdown",
      "metadata": {
        "id": "RZRzOBbFsY0w"
      },
      "source": [
        "13. Create a 3x3 identity matrix"
      ]
    },
    {
      "cell_type": "code",
      "metadata": {
        "id": "va2ou0BHsvEj",
        "colab": {
          "base_uri": "https://localhost:8080/"
        },
        "outputId": "84b4ddcb-6813-4e90-855e-ee82e5828496"
      },
      "source": [
        "a = np.identity(3)\r\n",
        "a"
      ],
      "execution_count": 58,
      "outputs": [
        {
          "output_type": "execute_result",
          "data": {
            "text/plain": [
              "array([[1., 0., 0.],\n",
              "       [0., 1., 0.],\n",
              "       [0., 0., 1.]])"
            ]
          },
          "metadata": {
            "tags": []
          },
          "execution_count": 58
        }
      ]
    },
    {
      "cell_type": "markdown",
      "metadata": {
        "id": "lnN5drkUs6o2"
      },
      "source": [
        "14. arr = np.array([1, 2, 3, 4, 5]) \n",
        "\n",
        "---\n",
        "\n",
        " Convert the data type of the given array from int to float "
      ]
    },
    {
      "cell_type": "code",
      "metadata": {
        "id": "59EIQt6otKUB",
        "colab": {
          "base_uri": "https://localhost:8080/"
        },
        "outputId": "75a0928d-6018-4638-d52d-9df8fc57738a"
      },
      "source": [
        "arr.astype('float')"
      ],
      "execution_count": 59,
      "outputs": [
        {
          "output_type": "execute_result",
          "data": {
            "text/plain": [
              "array([[1., 2., 3.],\n",
              "       [3., 4., 5.],\n",
              "       [6., 7., 8.]])"
            ]
          },
          "metadata": {
            "tags": []
          },
          "execution_count": 59
        }
      ]
    },
    {
      "cell_type": "markdown",
      "metadata": {
        "id": "fSL2AKJetTes"
      },
      "source": [
        "15. arr1 = np.array([[1., 2., 3.], [4., 5., 6.]])  \n",
        "    arr2 = np.array([[0., 4., 1.],[7., 2., 12.]])\n",
        "\n",
        "---\n",
        "\n",
        "\n",
        "Multiply arr1 with arr2\n"
      ]
    },
    {
      "cell_type": "code",
      "metadata": {
        "id": "7VDXgRQDuJNV",
        "colab": {
          "base_uri": "https://localhost:8080/"
        },
        "outputId": "f067e685-91ce-414f-db4d-6b82326b3071"
      },
      "source": [
        "arr1 = np.array([[1., 2., 3.], [4., 5., 6.]])  \r\n",
        "arr2 = np.array([[0., 4., 1.],[7., 2., 12.]])\r\n",
        "\r\n",
        "arr1 * arr2"
      ],
      "execution_count": 60,
      "outputs": [
        {
          "output_type": "execute_result",
          "data": {
            "text/plain": [
              "array([[ 0.,  8.,  3.],\n",
              "       [28., 10., 72.]])"
            ]
          },
          "metadata": {
            "tags": []
          },
          "execution_count": 60
        }
      ]
    },
    {
      "cell_type": "markdown",
      "metadata": {
        "id": "a8yJ438-uKni"
      },
      "source": [
        "16. arr1 = np.array([[1., 2., 3.],\n",
        "                    [4., 5., 6.]]) \n",
        "                    \n",
        "    arr2 = np.array([[0., 4., 1.], \n",
        "                    [7., 2., 12.]])\n",
        "\n",
        "\n",
        "---\n",
        "\n",
        "Make an array by comparing both the arrays provided above"
      ]
    },
    {
      "cell_type": "code",
      "metadata": {
        "id": "3MPDaAlYueF3",
        "colab": {
          "base_uri": "https://localhost:8080/"
        },
        "outputId": "3d9074fe-39aa-4ae2-c8fa-e12939de4910"
      },
      "source": [
        "arr1 > arr2"
      ],
      "execution_count": 61,
      "outputs": [
        {
          "output_type": "execute_result",
          "data": {
            "text/plain": [
              "array([[ True, False,  True],\n",
              "       [False,  True, False]])"
            ]
          },
          "metadata": {
            "tags": []
          },
          "execution_count": 61
        }
      ]
    },
    {
      "cell_type": "markdown",
      "metadata": {
        "id": "3xiD0eJluewk"
      },
      "source": [
        "17. Extract all odd numbers from arr with values(0-9)"
      ]
    },
    {
      "cell_type": "code",
      "metadata": {
        "id": "J_qbt_EuvM7l",
        "colab": {
          "base_uri": "https://localhost:8080/"
        },
        "outputId": "8d422cb5-a70d-42e2-c67a-eb47e6c15b91"
      },
      "source": [
        "arr = np.array([0,1,2,3,4,5,6,7,9])\r\n",
        "arr[arr % 2 != 0 ]"
      ],
      "execution_count": 62,
      "outputs": [
        {
          "output_type": "execute_result",
          "data": {
            "text/plain": [
              "array([1, 3, 5, 7, 9])"
            ]
          },
          "metadata": {
            "tags": []
          },
          "execution_count": 62
        }
      ]
    },
    {
      "cell_type": "markdown",
      "metadata": {
        "id": "zpg5cyLsvPoZ"
      },
      "source": [
        "18. Replace all odd numbers to -1 from previous array"
      ]
    },
    {
      "cell_type": "code",
      "metadata": {
        "id": "rXUV1-ULvQdd",
        "colab": {
          "base_uri": "https://localhost:8080/"
        },
        "outputId": "c4ab4402-9288-4ed1-e093-9536ab4f47db"
      },
      "source": [
        "y = arr[arr % 2 != 0 ] \r\n",
        "y = arr\r\n",
        "arr\r\n"
      ],
      "execution_count": 63,
      "outputs": [
        {
          "output_type": "execute_result",
          "data": {
            "text/plain": [
              "array([0, 1, 2, 3, 4, 5, 6, 7, 9])"
            ]
          },
          "metadata": {
            "tags": []
          },
          "execution_count": 63
        }
      ]
    },
    {
      "cell_type": "markdown",
      "metadata": {
        "id": "FWpHTWTDvjvi"
      },
      "source": [
        "19. arr = np.arange(10)\n",
        "\n",
        "\n",
        "---\n",
        "\n",
        "Replace the values of indexes 5,6,7 and 8 to **12**"
      ]
    },
    {
      "cell_type": "code",
      "metadata": {
        "id": "ensZ3lqwvlSb",
        "colab": {
          "base_uri": "https://localhost:8080/"
        },
        "outputId": "5b1277f6-1fa0-49a3-8b5f-f46150189cc4"
      },
      "source": [
        "arr = np.arange(10)\r\n",
        "arr[5:9] = 12\r\n",
        "arr\r\n"
      ],
      "execution_count": 64,
      "outputs": [
        {
          "output_type": "execute_result",
          "data": {
            "text/plain": [
              "array([ 0,  1,  2,  3,  4, 12, 12, 12, 12,  9])"
            ]
          },
          "metadata": {
            "tags": []
          },
          "execution_count": 64
        }
      ]
    },
    {
      "cell_type": "markdown",
      "metadata": {
        "id": "ib-vBffAv0zy"
      },
      "source": [
        "20. Create a 2d array with 1 on the border and 0 inside"
      ]
    },
    {
      "cell_type": "code",
      "metadata": {
        "id": "RmzcjNYrwDrM",
        "colab": {
          "base_uri": "https://localhost:8080/"
        },
        "outputId": "4dc392d8-690a-4845-a582-eb7f270ee4db"
      },
      "source": [
        "arr1 = np.ones((5,5))\r\n",
        "arr1[1:-1, 1:-1] = 0\r\n",
        "arr1\r\n"
      ],
      "execution_count": 65,
      "outputs": [
        {
          "output_type": "execute_result",
          "data": {
            "text/plain": [
              "array([[1., 1., 1., 1., 1.],\n",
              "       [1., 0., 0., 0., 1.],\n",
              "       [1., 0., 0., 0., 1.],\n",
              "       [1., 0., 0., 0., 1.],\n",
              "       [1., 1., 1., 1., 1.]])"
            ]
          },
          "metadata": {
            "tags": []
          },
          "execution_count": 65
        }
      ]
    },
    {
      "cell_type": "markdown",
      "metadata": {
        "id": "E1diIFSEwEmh"
      },
      "source": [
        "Difficulty Level **Medium**"
      ]
    },
    {
      "cell_type": "markdown",
      "metadata": {
        "id": "eGLZmNb_wKb4"
      },
      "source": [
        "21. arr2d = np.array([[1, 2, 3],\n",
        "\n",
        "                    [4, 5, 6], \n",
        "\n",
        "                    [7, 8, 9]])\n",
        "\n",
        "---\n",
        "\n",
        "Replace the value 5 to 12"
      ]
    },
    {
      "cell_type": "code",
      "metadata": {
        "id": "VdUnsUOZwJFz",
        "colab": {
          "base_uri": "https://localhost:8080/"
        },
        "outputId": "d364c84d-6e93-433b-8a4e-53d8979a14ec"
      },
      "source": [
        "arr2d = np.array([[1,2,3],[4,5,6],[7,8,9]])\r\n",
        "arr2d[1][1] = 12\r\n",
        "arr2d"
      ],
      "execution_count": 66,
      "outputs": [
        {
          "output_type": "execute_result",
          "data": {
            "text/plain": [
              "array([[ 1,  2,  3],\n",
              "       [ 4, 12,  6],\n",
              "       [ 7,  8,  9]])"
            ]
          },
          "metadata": {
            "tags": []
          },
          "execution_count": 66
        }
      ]
    },
    {
      "cell_type": "markdown",
      "metadata": {
        "id": "TEbFhlPZxaKO"
      },
      "source": [
        "22. arr3d = np.array([[[1, 2, 3], [4, 5, 6]], [[7, 8, 9], [10, 11, 12]]])\n",
        "\n",
        "---\n",
        "Convert all the values of 1st array to 64\n"
      ]
    },
    {
      "cell_type": "code",
      "metadata": {
        "id": "eYzephU8xmsg",
        "colab": {
          "base_uri": "https://localhost:8080/"
        },
        "outputId": "b899a92a-1eea-4c41-d1a9-d2696b2fbbcc"
      },
      "source": [
        "arr3d = np.array([[[1,2,3],[4,5,6]], [[7,8,9],[10,11,12]]])\r\n",
        "arr3d[0]=64\r\n",
        "arr3d"
      ],
      "execution_count": 70,
      "outputs": [
        {
          "output_type": "execute_result",
          "data": {
            "text/plain": [
              "array([[[64, 64, 64],\n",
              "        [64, 64, 64]],\n",
              "\n",
              "       [[ 7,  8,  9],\n",
              "        [10, 11, 12]]])"
            ]
          },
          "metadata": {
            "tags": []
          },
          "execution_count": 70
        }
      ]
    },
    {
      "cell_type": "markdown",
      "metadata": {
        "id": "vZj0Ndvnx6f0"
      },
      "source": [
        "23. Make a 2-Dimensional array with values 0-9 and slice out the first 1st 1-D array from it"
      ]
    },
    {
      "cell_type": "code",
      "metadata": {
        "id": "pM4e9YfdyHSv",
        "colab": {
          "base_uri": "https://localhost:8080/"
        },
        "outputId": "44301c28-bb57-4ab9-f1ef-a6036a536d3c"
      },
      "source": [
        "arr2d = np.array([[0,1],[2,3],[4,5],[6,7],[8,9]])\r\n",
        "arr2d[0]"
      ],
      "execution_count": 77,
      "outputs": [
        {
          "output_type": "execute_result",
          "data": {
            "text/plain": [
              "array([0, 1])"
            ]
          },
          "metadata": {
            "tags": []
          },
          "execution_count": 77
        }
      ]
    },
    {
      "cell_type": "markdown",
      "metadata": {
        "id": "C3dkW0lZyVps"
      },
      "source": [
        "24. Make a 2-Dimensional array with values 0-9 and slice out the 2nd value from 2nd 1-D array from it"
      ]
    },
    {
      "cell_type": "code",
      "metadata": {
        "id": "IrrzK2xgygqV"
      },
      "source": [
        "arr2d = np.array([[[[0,1,2],[3,4,5]],[[7,8,9],[10,11,12]]]])"
      ],
      "execution_count": 69,
      "outputs": []
    },
    {
      "cell_type": "markdown",
      "metadata": {
        "id": "G3dLwOO9yyrE"
      },
      "source": [
        "25. Make a 2-Dimensional array with values 0-9 and slice out the third column but only the first two rows"
      ]
    },
    {
      "cell_type": "code",
      "metadata": {
        "id": "5Bx4fqsLyqGD",
        "colab": {
          "base_uri": "https://localhost:8080/"
        },
        "outputId": "e061f226-8414-45c5-d231-dacf17697211"
      },
      "source": [
        "arr2d = np.array([[0,1,2],[3,4,5],[7,8,9],[10,11,12]])\r\n",
        "arr2d[0:2,2]\r\n",
        "\r\n",
        "\r\n"
      ],
      "execution_count": 104,
      "outputs": [
        {
          "output_type": "execute_result",
          "data": {
            "text/plain": [
              "array([2, 5])"
            ]
          },
          "metadata": {
            "tags": []
          },
          "execution_count": 104
        }
      ]
    },
    {
      "cell_type": "markdown",
      "metadata": {
        "id": "CQ9YST5jy0IL"
      },
      "source": [
        "26. Create a 10x10 array with random values and find the minimum and maximum values"
      ]
    },
    {
      "cell_type": "code",
      "metadata": {
        "id": "lhJPugjQzG6W",
        "colab": {
          "base_uri": "https://localhost:8080/"
        },
        "outputId": "ab44717a-3af2-4909-e1e8-3b32a9447b32"
      },
      "source": [
        "x= np.random.random((10,10))\r\n",
        "xmax= x.max()\r\n",
        "xmin =x.min()\r\n",
        "xmax, xmin"
      ],
      "execution_count": 119,
      "outputs": [
        {
          "output_type": "execute_result",
          "data": {
            "text/plain": [
              "(0.9861831188670893, 0.03185025103496675)"
            ]
          },
          "metadata": {
            "tags": []
          },
          "execution_count": 119
        }
      ]
    },
    {
      "cell_type": "markdown",
      "metadata": {
        "id": "cAgDt6KazHk6"
      },
      "source": [
        "27. a = np.array([1,2,3,2,3,4,3,4,5,6]) b = np.array([7,2,10,2,7,4,9,4,9,8])\n",
        "---\n",
        "Find the common items between a and b\n"
      ]
    },
    {
      "cell_type": "code",
      "metadata": {
        "id": "kBXZanxIzs_F"
      },
      "source": [
        ""
      ],
      "execution_count": 69,
      "outputs": []
    },
    {
      "cell_type": "markdown",
      "metadata": {
        "id": "lF9IzWOAztpD"
      },
      "source": [
        "28. a = np.array([1,2,3,2,3,4,3,4,5,6])\n",
        "b = np.array([7,2,10,2,7,4,9,4,9,8])\n",
        "\n",
        "---\n",
        "Find the positions where elements of a and b match\n",
        "\n"
      ]
    },
    {
      "cell_type": "code",
      "metadata": {
        "id": "JR-mHQLH0HY_"
      },
      "source": [
        ""
      ],
      "execution_count": 69,
      "outputs": []
    },
    {
      "cell_type": "markdown",
      "metadata": {
        "id": "mMDiefpH0H1x"
      },
      "source": [
        "29.  names = np.array(['Bob', 'Joe', 'Will', 'Bob', 'Will', 'Joe', 'Joe'])  data = np.random.randn(7, 4)\n",
        "\n",
        "---\n",
        "Find all the values from array **data** where the values from array **names** are not equal to **Will**\n"
      ]
    },
    {
      "cell_type": "code",
      "metadata": {
        "id": "gfc1Lpf81ZSR"
      },
      "source": [
        ""
      ],
      "execution_count": 69,
      "outputs": []
    },
    {
      "cell_type": "markdown",
      "metadata": {
        "id": "52zEjDMf1aXS"
      },
      "source": [
        "30. names = np.array(['Bob', 'Joe', 'Will', 'Bob', 'Will', 'Joe', 'Joe']) data = np.random.randn(7, 4)\n",
        "\n",
        "---\n",
        "Find all the values from array **data** where the values from array **names** are not equal to **Will** and **Joe**\n",
        "\n"
      ]
    },
    {
      "cell_type": "code",
      "metadata": {
        "id": "8RYG0kLO1mHw"
      },
      "source": [
        ""
      ],
      "execution_count": 69,
      "outputs": []
    },
    {
      "cell_type": "markdown",
      "metadata": {
        "id": "Q7hjf2bd2dCY"
      },
      "source": [
        "Difficulty Level **Hard**"
      ]
    },
    {
      "cell_type": "markdown",
      "metadata": {
        "id": "b48g7aRA2jVM"
      },
      "source": [
        "31. Create a 2D array of shape 5x3 to contain decimal numbers between 1 and 15."
      ]
    },
    {
      "cell_type": "code",
      "metadata": {
        "id": "EbwfSCrW2f9_"
      },
      "source": [
        ""
      ],
      "execution_count": 69,
      "outputs": []
    },
    {
      "cell_type": "markdown",
      "metadata": {
        "id": "Ei_nDHtO3qBk"
      },
      "source": [
        "32. Create an array of shape (2, 2, 4) with decimal numbers between 1 to 16."
      ]
    },
    {
      "cell_type": "code",
      "metadata": {
        "id": "phOxVpBM4M6D"
      },
      "source": [
        ""
      ],
      "execution_count": 69,
      "outputs": []
    },
    {
      "cell_type": "markdown",
      "metadata": {
        "id": "uyiQaMjA4d_x"
      },
      "source": [
        "33. Swap axes of the array you created in Question 32"
      ]
    },
    {
      "cell_type": "code",
      "metadata": {
        "id": "w2m9p8064VtR"
      },
      "source": [
        ""
      ],
      "execution_count": 69,
      "outputs": []
    },
    {
      "cell_type": "markdown",
      "metadata": {
        "id": "2dlU_yUR4mVZ"
      },
      "source": [
        "34. Create an array of size 10, and find the square root of every element in the array, if the values less than 0.5, replace them with 0"
      ]
    },
    {
      "cell_type": "code",
      "metadata": {
        "id": "tmBabEJ-5JgB"
      },
      "source": [
        ""
      ],
      "execution_count": 69,
      "outputs": []
    },
    {
      "cell_type": "markdown",
      "metadata": {
        "id": "SNAM4dpu5RKA"
      },
      "source": [
        "35. Create two random arrays of range 12 and make an array with the maximum values between each element of the two arrays"
      ]
    },
    {
      "cell_type": "code",
      "metadata": {
        "id": "3pxebU2b5q9Z"
      },
      "source": [
        ""
      ],
      "execution_count": 69,
      "outputs": []
    },
    {
      "cell_type": "markdown",
      "metadata": {
        "id": "fz_bpqm28qmD"
      },
      "source": [
        "36. names = np.array(['Bob', 'Joe', 'Will', 'Bob', 'Will', 'Joe', 'Joe'])\n",
        "\n",
        "---\n",
        "Find the unique names and sort them out!\n"
      ]
    },
    {
      "cell_type": "code",
      "metadata": {
        "id": "hiSNMgcY87Ey"
      },
      "source": [
        ""
      ],
      "execution_count": 69,
      "outputs": []
    },
    {
      "cell_type": "markdown",
      "metadata": {
        "id": "dguMNzob870H"
      },
      "source": [
        "37. a = np.array([1,2,3,4,5])\n",
        "b = np.array([5,6,7,8,9])\n",
        "\n",
        "---\n",
        "From array a remove all items present in array b\n",
        "\n"
      ]
    },
    {
      "cell_type": "code",
      "metadata": {
        "id": "eCNJXPvK9IAr"
      },
      "source": [
        ""
      ],
      "execution_count": 69,
      "outputs": []
    },
    {
      "cell_type": "markdown",
      "metadata": {
        "id": "gz4Dvd4b_Akh"
      },
      "source": [
        "38.  Following is the input NumPy array delete column two and insert following new column in its place.\n",
        "\n",
        "---\n",
        "sampleArray = numpy.array([[34,43,73],[82,22,12],[53,94,66]]) \n",
        "\n",
        "\n",
        "---\n",
        "\n",
        "newColumn = numpy.array([[10,10,10]])\n"
      ]
    },
    {
      "cell_type": "code",
      "metadata": {
        "id": "lLWAJWJJ_I3d"
      },
      "source": [
        ""
      ],
      "execution_count": 69,
      "outputs": []
    },
    {
      "cell_type": "markdown",
      "metadata": {
        "id": "1lIfmbQt_J_W"
      },
      "source": [
        "39. x = np.array([[1., 2., 3.], [4., 5., 6.]]) y = np.array([[6., 23.], [-1, 7], [8, 9]])\n",
        "\n",
        "\n",
        "---\n",
        "Find the dot product of the above two matrix\n"
      ]
    },
    {
      "cell_type": "code",
      "metadata": {
        "id": "fV2-vXcR_vmu"
      },
      "source": [
        ""
      ],
      "execution_count": 69,
      "outputs": []
    },
    {
      "cell_type": "markdown",
      "metadata": {
        "id": "5U-4odUw_wP0"
      },
      "source": [
        "40. Generate a matrix of 20 random values and find its cumulative sum"
      ]
    },
    {
      "cell_type": "code",
      "metadata": {
        "id": "_oOHdiYEAF8N"
      },
      "source": [
        ""
      ],
      "execution_count": 69,
      "outputs": []
    }
  ]
}